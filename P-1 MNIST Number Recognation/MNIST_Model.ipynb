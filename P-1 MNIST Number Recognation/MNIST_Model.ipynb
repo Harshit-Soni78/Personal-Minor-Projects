{
 "cells": [
  {
   "cell_type": "code",
   "execution_count": 10,
   "metadata": {
    "_cell_guid": "b1076dfc-b9ad-4769-8c92-a6c4dae69d19",
    "_uuid": "8f2839f25d086af736a60e9eeb907d3b93b6e0e5"
   },
   "outputs": [],
   "source": [
    "import numpy as np\n",
    "import pandas as pd\n",
    "from matplotlib import pyplot as plt\n",
    "\n",
    "data = pd.read_csv('train.csv')"
   ]
  },
  {
   "cell_type": "code",
   "execution_count": 11,
   "metadata": {},
   "outputs": [],
   "source": [
    "data = np.array(data)\n",
    "m, n = data.shape\n",
    "np.random.shuffle(data) # shuffle before splitting into dev and training sets\n",
    "\n",
    "data_dev = data[0:1000].T\n",
    "Y_dev = data_dev[0]\n",
    "X_dev = data_dev[1:n]\n",
    "X_dev = X_dev / 255.\n",
    "\n",
    "data_train = data[1000:m].T\n",
    "Y_train = data_train[0]\n",
    "X_train = data_train[1:n]\n",
    "X_train = X_train / 255.\n",
    "_,m_train = X_train.shape"
   ]
  },
  {
   "cell_type": "code",
   "execution_count": 12,
   "metadata": {},
   "outputs": [
    {
     "data": {
      "text/plain": [
       "array([7, 0, 7, ..., 4, 9, 1], dtype=int64)"
      ]
     },
     "execution_count": 12,
     "metadata": {},
     "output_type": "execute_result"
    }
   ],
   "source": [
    "Y_train"
   ]
  },
  {
   "cell_type": "code",
   "execution_count": 13,
   "metadata": {},
   "outputs": [],
   "source": [
    "def init_params():\n",
    "    W1 = np.random.rand(10, 784) - 0.5\n",
    "    b1 = np.random.rand(10, 1) - 0.5\n",
    "    W2 = np.random.rand(10, 10) - 0.5\n",
    "    b2 = np.random.rand(10, 1) - 0.5\n",
    "    return W1, b1, W2, b2\n",
    "\n",
    "def ReLU(Z):\n",
    "    return np.maximum(Z, 0)\n",
    "\n",
    "def softmax(Z):\n",
    "    A = np.exp(Z) / sum(np.exp(Z))\n",
    "    return A\n",
    "    \n",
    "def forward_prop(W1, b1, W2, b2, X):\n",
    "    Z1 = W1.dot(X) + b1\n",
    "    A1 = ReLU(Z1)\n",
    "    Z2 = W2.dot(A1) + b2\n",
    "    A2 = softmax(Z2)\n",
    "    return Z1, A1, Z2, A2\n",
    "\n",
    "def ReLU_deriv(Z):\n",
    "    return Z > 0\n",
    "\n",
    "def one_hot(Y):\n",
    "    one_hot_Y = np.zeros((Y.size, Y.max() + 1))\n",
    "    one_hot_Y[np.arange(Y.size), Y] = 1\n",
    "    one_hot_Y = one_hot_Y.T\n",
    "    return one_hot_Y\n",
    "\n",
    "def backward_prop(Z1, A1, Z2, A2, W1, W2, X, Y):\n",
    "    one_hot_Y = one_hot(Y)\n",
    "    dZ2 = A2 - one_hot_Y\n",
    "    dW2 = 1 / m * dZ2.dot(A1.T)\n",
    "    db2 = 1 / m * np.sum(dZ2)\n",
    "    dZ1 = W2.T.dot(dZ2) * ReLU_deriv(Z1)\n",
    "    dW1 = 1 / m * dZ1.dot(X.T)\n",
    "    db1 = 1 / m * np.sum(dZ1)\n",
    "    return dW1, db1, dW2, db2\n",
    "\n",
    "def update_params(W1, b1, W2, b2, dW1, db1, dW2, db2, alpha):\n",
    "    W1 = W1 - alpha * dW1\n",
    "    b1 = b1 - alpha * db1    \n",
    "    W2 = W2 - alpha * dW2  \n",
    "    b2 = b2 - alpha * db2    \n",
    "    return W1, b1, W2, b2"
   ]
  },
  {
   "cell_type": "code",
   "execution_count": 14,
   "metadata": {},
   "outputs": [],
   "source": [
    "def get_predictions(A2):\n",
    "    return np.argmax(A2, 0)\n",
    "\n",
    "def get_accuracy(predictions, Y):\n",
    "    print(predictions, Y)\n",
    "    return np.sum(predictions == Y) / Y.size\n",
    "\n",
    "def gradient_descent(X, Y, alpha, iterations):\n",
    "    W1, b1, W2, b2 = init_params()\n",
    "    for i in range(iterations):\n",
    "        Z1, A1, Z2, A2 = forward_prop(W1, b1, W2, b2, X)\n",
    "        dW1, db1, dW2, db2 = backward_prop(Z1, A1, Z2, A2, W1, W2, X, Y)\n",
    "        W1, b1, W2, b2 = update_params(W1, b1, W2, b2, dW1, db1, dW2, db2, alpha)\n",
    "        if i % 10 == 0:\n",
    "            print(\"Iteration: \", i)\n",
    "            predictions = get_predictions(A2)\n",
    "            print(get_accuracy(predictions, Y))\n",
    "    return W1, b1, W2, b2"
   ]
  },
  {
   "cell_type": "code",
   "execution_count": null,
   "metadata": {},
   "outputs": [
    {
     "name": "stdout",
     "output_type": "stream",
     "text": [
      "Iteration:  0\n",
      "[7 1 7 ... 7 7 1] [7 0 7 ... 4 9 1]\n",
      "0.10921951219512195\n",
      "Iteration:  10\n",
      "[5 1 7 ... 7 7 1] [7 0 7 ... 4 9 1]\n",
      "0.1457560975609756\n",
      "Iteration:  20\n",
      "[7 1 7 ... 7 7 1] [7 0 7 ... 4 9 1]\n",
      "0.21139024390243902\n",
      "Iteration:  30\n",
      "[7 1 7 ... 7 7 1] [7 0 7 ... 4 9 1]\n",
      "0.2807804878048781\n",
      "Iteration:  40\n",
      "[7 1 7 ... 7 7 1] [7 0 7 ... 4 9 1]\n",
      "0.3362439024390244\n",
      "Iteration:  50\n",
      "[7 1 7 ... 7 7 1] [7 0 7 ... 4 9 1]\n",
      "0.3861707317073171\n",
      "Iteration:  60\n",
      "[7 0 7 ... 7 7 1] [7 0 7 ... 4 9 1]\n",
      "0.42360975609756096\n",
      "Iteration:  70\n",
      "[7 0 7 ... 7 7 1] [7 0 7 ... 4 9 1]\n",
      "0.45178048780487806\n",
      "Iteration:  80\n",
      "[3 0 7 ... 7 3 1] [7 0 7 ... 4 9 1]\n",
      "0.4834634146341463\n",
      "Iteration:  90\n",
      "[9 0 7 ... 7 9 1] [7 0 7 ... 4 9 1]\n",
      "0.5154634146341464\n",
      "Iteration:  100\n",
      "[9 0 7 ... 7 9 1] [7 0 7 ... 4 9 1]\n",
      "0.5400243902439025\n",
      "Iteration:  110\n",
      "[9 0 7 ... 7 9 1] [7 0 7 ... 4 9 1]\n",
      "0.5625121951219512\n",
      "Iteration:  120\n",
      "[9 0 7 ... 7 9 1] [7 0 7 ... 4 9 1]\n",
      "0.5819512195121951\n",
      "Iteration:  130\n",
      "[9 0 7 ... 7 9 1] [7 0 7 ... 4 9 1]\n",
      "0.5997073170731707\n",
      "Iteration:  140\n",
      "[9 0 7 ... 7 9 1] [7 0 7 ... 4 9 1]\n",
      "0.6179268292682927\n",
      "Iteration:  150\n",
      "[9 0 7 ... 7 9 1] [7 0 7 ... 4 9 1]\n",
      "0.6339024390243903\n",
      "Iteration:  160\n",
      "[4 0 7 ... 7 9 1] [7 0 7 ... 4 9 1]\n",
      "0.6472682926829268\n",
      "Iteration:  170\n",
      "[4 0 7 ... 7 9 1] [7 0 7 ... 4 9 1]\n",
      "0.6599512195121952\n",
      "Iteration:  180\n",
      "[4 0 7 ... 9 9 1] [7 0 7 ... 4 9 1]\n",
      "0.6711707317073171\n",
      "Iteration:  190\n",
      "[4 0 7 ... 9 9 1] [7 0 7 ... 4 9 1]\n",
      "0.681609756097561\n",
      "Iteration:  200\n",
      "[4 0 7 ... 9 9 1] [7 0 7 ... 4 9 1]\n",
      "0.6923170731707317\n",
      "Iteration:  210\n",
      "[4 0 7 ... 9 9 1] [7 0 7 ... 4 9 1]\n",
      "0.7019512195121951\n",
      "Iteration:  220\n",
      "[4 0 7 ... 9 9 1] [7 0 7 ... 4 9 1]\n",
      "0.7097073170731707\n",
      "Iteration:  230\n",
      "[4 0 7 ... 9 9 1] [7 0 7 ... 4 9 1]\n",
      "0.7187073170731707\n"
     ]
    }
   ],
   "source": [
    "W1, b1, W2, b2 = gradient_descent(X_train, Y_train, 0.10, 500)"
   ]
  },
  {
   "cell_type": "code",
   "execution_count": null,
   "metadata": {},
   "outputs": [],
   "source": [
    "def make_predictions(X, W1, b1, W2, b2):\n",
    "    _, _, _, A2 = forward_prop(W1, b1, W2, b2, X)\n",
    "    predictions = get_predictions(A2)\n",
    "    return predictions\n",
    "\n",
    "def test_prediction(index, W1, b1, W2, b2):\n",
    "    current_image = X_train[:, index, None]\n",
    "    prediction = make_predictions(X_train[:, index, None], W1, b1, W2, b2)\n",
    "    label = Y_train[index]\n",
    "    print(\"Prediction: \", prediction)\n",
    "    print(\"Label: \", label)\n",
    "    \n",
    "    current_image = current_image.reshape((28, 28)) * 255\n",
    "    plt.gray()\n",
    "    plt.imshow(current_image, interpolation='nearest')\n",
    "    plt.show()"
   ]
  },
  {
   "cell_type": "code",
   "execution_count": null,
   "metadata": {},
   "outputs": [],
   "source": [
    "test_prediction(0, W1, b1, W2, b2)\n",
    "test_prediction(1, W1, b1, W2, b2)\n",
    "test_prediction(2, W1, b1, W2, b2)\n",
    "test_prediction(3, W1, b1, W2, b2)"
   ]
  },
  {
   "cell_type": "code",
   "execution_count": null,
   "metadata": {},
   "outputs": [],
   "source": [
    "dev_predictions = make_predictions(X_dev, W1, b1, W2, b2)\n",
    "get_accuracy(dev_predictions, Y_dev)"
   ]
  },
  {
   "cell_type": "code",
   "execution_count": null,
   "metadata": {},
   "outputs": [],
   "source": []
  }
 ],
 "metadata": {
  "kaggle": {
   "accelerator": "none",
   "dataSources": [
    {
     "databundleVersionId": 861823,
     "sourceId": 3004,
     "sourceType": "competition"
    }
   ],
   "dockerImageVersionId": 30035,
   "isGpuEnabled": false,
   "isInternetEnabled": false,
   "language": "python",
   "sourceType": "notebook"
  },
  "kernelspec": {
   "display_name": "Python 3 (ipykernel)",
   "language": "python",
   "name": "python3"
  },
  "language_info": {
   "codemirror_mode": {
    "name": "ipython",
    "version": 3
   },
   "file_extension": ".py",
   "mimetype": "text/x-python",
   "name": "python",
   "nbconvert_exporter": "python",
   "pygments_lexer": "ipython3",
   "version": "3.11.7"
  }
 },
 "nbformat": 4,
 "nbformat_minor": 4
}
