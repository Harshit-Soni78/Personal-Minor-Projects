{
 "cells": [
  {
   "cell_type": "markdown",
   "id": "334cc9f1",
   "metadata": {},
   "source": [
    "## This is List Maker\n",
    "\n",
    "- In this we can manualy make list of question that we wanted to search"
   ]
  },
  {
   "cell_type": "code",
   "execution_count": 1,
   "id": "da4d0be4",
   "metadata": {},
   "outputs": [],
   "source": [
    "Unit_1 = [\"Explain the working principle of a pinhole camera. How does it differ from a lens camera?\",\n",
    "\"Define and explain the terms: aperture, focal length, and depth of field.\",\n",
    "\"How does depth of field impact image clarity and focus?\",\n",
    "\"Describe the internal structure and working of a digital camera.\",\n",
    "\"Compare raster and vector images with examples. Which is better suited for photographs?\",\n",
    "\"What are the major differences between lossy and lossless image compression?\",\n",
    "\"Describe different image file formats (e.g., BMP, JPEG, PNG, TIFF). State their pros and cons.\",\n",
    "\"What is OpenCV? Mention its main features and applications in image processing.\"]\n",
    "\n",
    "Unit_2 = [\"Briefly explain the anatomy of human vision. How does the eye perceive color?\",\n",
    "\"What are trichromatic color models? Describe the RGB model in detail.\",\n",
    "\"Compare RGB, HSV, and CMYK color models. Where is each used?\",\n",
    "\"What is color space conversion? Why is it necessary in image processing?\",\n",
    "\"Explain ambient, diffuse, and specular illumination models with diagrams.\",\n",
    "\"Define halftoning. How does it help in printing images?\",\n",
    "\"What is dithering? How is it different from halftoning?\",\n",
    "\"Explain the significance of refresh rate, pixel density, and aspect ratio in image displays.\",\n",
    "\"What are the types of display technologies used today? (LED, OLED, LCD – basic overview)\"]\n",
    "\n",
    "\n",
    "Unit_3 = [\"What is a histogram in image processing? How is it used for contrast enhancement?\",\n",
    "\"Differentiate between color and pixel-level operations with examples.\",\n",
    "\"Explain the role of noise filtering in image preprocessing. What are common filters used?\",\n",
    "\"Define and explain morphological operations: dilation and erosion with examples.\",\n",
    "\"What is the purpose of majority filtering? Where is it used?\",\n",
    "\"Describe geometrical operations such as rotation, scaling, and translation. How are these achieved mathematically?\",\n",
    "\"Provide a real-world application for each geometrical operation.\"]\n",
    "\n",
    "\n",
    "Unit_4 = [\"How is an image treated as a signal in processing?\",\n",
    "\"Distinguish between spatial domain and frequency domain image processing.\",\n",
    "\"What is convolution? Explain its role in image filtering with an example.\",\n",
    "\"Describe linear filters. How are they different from non-linear filters?\",\n",
    "\"Explain the working and kernel used in blur (smoothing) filters.\",\n",
    "\"What is an edge detection filter? Explain with examples (Sobel, Prewitt, etc.).\",\n",
    "\"What is thresholding? How is it applied to an image?\",\n",
    "\"Explain the concept of band-pass filters in image processing.\",\n",
    "\"Write short notes on Gaussian filter\",\n",
    "\"Write short notes on Wavelet transform\",\n",
    "\"Write short notes on Gabor filters and their applications\"]\n",
    "\n",
    "Unit_5 = [\"What are image contours? How are contour properties used in real-world applications?\",\n",
    "\"Explain the concept of pattern recognition in images. What are its common use cases?\",\n",
    "\"Briefly explain how convolutional neural networks (CNNs) are used for image classification.\",\n",
    "\"What is image segmentation? Describe any two methods.\",\n",
    "\"Define template matching. How is it different from pattern recognition?\",\n",
    "\"What is stereo imaging? How is depth estimated from stereo images?\",\n",
    "\"Describe the idea of computational photography with examples (HDR, focus stacking, etc.).\",\n",
    "\"How does computer vision differ from image processing?\",\n",
    "\"List real-world applications of computer vision in various domains.\"]"
   ]
  },
  {
   "cell_type": "code",
   "execution_count": 20,
   "id": "a74be7f1",
   "metadata": {},
   "outputs": [
    {
     "name": "stdout",
     "output_type": "stream",
     "text": [
      "Number of questions in Unit 1: 8\n",
      "Number of questions in Unit 2: 9\n",
      "Number of questions in Unit 3: 7\n",
      "Number of questions in Unit 4: 11\n",
      "Number of questions in Unit 5: 9\n"
     ]
    }
   ],
   "source": [
    "print(f\"Number of questions in Unit 1: {len(Unit_1)}\")\n",
    "print(f\"Number of questions in Unit 2: {len(Unit_2)}\")\n",
    "print(f\"Number of questions in Unit 3: {len(Unit_3)}\")\n",
    "print(f\"Number of questions in Unit 4: {len(Unit_4)}\")\n",
    "print(f\"Number of questions in Unit 5: {len(Unit_5)}\")"
   ]
  },
  {
   "cell_type": "code",
   "execution_count": 21,
   "id": "61cd4f86",
   "metadata": {},
   "outputs": [],
   "source": [
    "ListOfQuestions = [Unit_1, Unit_2, Unit_3, Unit_4, Unit_5]"
   ]
  },
  {
   "cell_type": "code",
   "execution_count": 23,
   "id": "824f74fe",
   "metadata": {},
   "outputs": [
    {
     "name": "stdout",
     "output_type": "stream",
     "text": [
      "https://www.google.co.in/search?q=Explain+the+working+principle+of+a+pinhole+camera.+How+does+it+differ+from+a+lens+camera?\n",
      "https://www.google.co.in/search?q=Define+and+explain+the+terms:+aperture,+focal+length,+and+depth+of+field.\n",
      "https://www.google.co.in/search?q=How+does+depth+of+field+impact+image+clarity+and+focus?\n",
      "https://www.google.co.in/search?q=Describe+the+internal+structure+and+working+of+a+digital+camera.\n",
      "https://www.google.co.in/search?q=Compare+raster+and+vector+images+with+examples.+Which+is+better+suited+for+photographs?\n",
      "https://www.google.co.in/search?q=What+are+the+major+differences+between+lossy+and+lossless+image+compression?\n",
      "https://www.google.co.in/search?q=Describe+different+image+file+formats+(e.g.,+BMP,+JPEG,+PNG,+TIFF).+State+their+pros+and+cons.\n",
      "https://www.google.co.in/search?q=What+is+OpenCV?+Mention+its+main+features+and+applications+in+image+processing.\n",
      "--------------------------------------------------\n",
      "https://www.google.co.in/search?q=Briefly+explain+the+anatomy+of+human+vision.+How+does+the+eye+perceive+color?\n",
      "https://www.google.co.in/search?q=What+are+trichromatic+color+models?+Describe+the+RGB+model+in+detail.\n",
      "https://www.google.co.in/search?q=Compare+RGB,+HSV,+and+CMYK+color+models.+Where+is+each+used?\n",
      "https://www.google.co.in/search?q=What+is+color+space+conversion?+Why+is+it+necessary+in+image+processing?\n",
      "https://www.google.co.in/search?q=Explain+ambient,+diffuse,+and+specular+illumination+models+with+diagrams.\n",
      "https://www.google.co.in/search?q=Define+halftoning.+How+does+it+help+in+printing+images?\n",
      "https://www.google.co.in/search?q=What+is+dithering?+How+is+it+different+from+halftoning?\n",
      "https://www.google.co.in/search?q=Explain+the+significance+of+refresh+rate,+pixel+density,+and+aspect+ratio+in+image+displays.\n",
      "https://www.google.co.in/search?q=What+are+the+types+of+display+technologies+used+today?+(LED,+OLED,+LCD+–+basic+overview)\n",
      "--------------------------------------------------\n",
      "https://www.google.co.in/search?q=What+is+a+histogram+in+image+processing?+How+is+it+used+for+contrast+enhancement?\n",
      "https://www.google.co.in/search?q=Differentiate+between+color+and+pixel-level+operations+with+examples.\n",
      "https://www.google.co.in/search?q=Explain+the+role+of+noise+filtering+in+image+preprocessing.+What+are+common+filters+used?\n",
      "https://www.google.co.in/search?q=Define+and+explain+morphological+operations:+dilation+and+erosion+with+examples.\n",
      "https://www.google.co.in/search?q=What+is+the+purpose+of+majority+filtering?+Where+is+it+used?\n",
      "https://www.google.co.in/search?q=Describe+geometrical+operations+such+as+rotation,+scaling,+and+translation.+How+are+these+achieved+mathematically?\n",
      "https://www.google.co.in/search?q=Provide+a+real-world+application+for+each+geometrical+operation.\n",
      "--------------------------------------------------\n",
      "https://www.google.co.in/search?q=How+is+an+image+treated+as+a+signal+in+processing?\n",
      "https://www.google.co.in/search?q=Distinguish+between+spatial+domain+and+frequency+domain+image+processing.\n",
      "https://www.google.co.in/search?q=What+is+convolution?+Explain+its+role+in+image+filtering+with+an+example.\n",
      "https://www.google.co.in/search?q=Describe+linear+filters.+How+are+they+different+from+non-linear+filters?\n",
      "https://www.google.co.in/search?q=Explain+the+working+and+kernel+used+in+blur+(smoothing)+filters.\n",
      "https://www.google.co.in/search?q=What+is+an+edge+detection+filter?+Explain+with+examples+(Sobel,+Prewitt,+etc.).\n",
      "https://www.google.co.in/search?q=What+is+thresholding?+How+is+it+applied+to+an+image?\n",
      "https://www.google.co.in/search?q=Explain+the+concept+of+band-pass+filters+in+image+processing.\n",
      "https://www.google.co.in/search?q=Write+short+notes+on+Gaussian+filter\n",
      "https://www.google.co.in/search?q=Write+short+notes+on+Wavelet+transform\n",
      "https://www.google.co.in/search?q=Write+short+notes+on+Gabor+filters+and+their+applications\n",
      "--------------------------------------------------\n",
      "https://www.google.co.in/search?q=What+are+image+contours?+How+are+contour+properties+used+in+real-world+applications?\n",
      "https://www.google.co.in/search?q=Explain+the+concept+of+pattern+recognition+in+images.+What+are+its+common+use+cases?\n",
      "https://www.google.co.in/search?q=Briefly+explain+how+convolutional+neural+networks+(CNNs)+are+used+for+image+classification.\n",
      "https://www.google.co.in/search?q=What+is+image+segmentation?+Describe+any+two+methods.\n",
      "https://www.google.co.in/search?q=Define+template+matching.+How+is+it+different+from+pattern+recognition?\n",
      "https://www.google.co.in/search?q=What+is+stereo+imaging?+How+is+depth+estimated+from+stereo+images?\n",
      "https://www.google.co.in/search?q=Describe+the+idea+of+computational+photography+with+examples+(HDR,+focus+stacking,+etc.).\n",
      "https://www.google.co.in/search?q=How+does+computer+vision+differ+from+image+processing?\n",
      "https://www.google.co.in/search?q=List+real-world+applications+of+computer+vision+in+various+domains.\n",
      "--------------------------------------------------\n"
     ]
    }
   ],
   "source": [
    "import webbrowser\n",
    "\n",
    "for unit in ListOfQuestions:\n",
    "    ListOfQuestionLink = [f\"https://www.google.co.in/search?q={question.replace(' ', '+')}\" for question in unit]\n",
    "    for link in ListOfQuestionLink:\n",
    "        print(link)\n",
    "        webbrowser.open(link)\n",
    "    print(\"-\" * 50)\n",
    "    webbrowser.open(\"Group Here\")"
   ]
  },
  {
   "cell_type": "code",
   "execution_count": null,
   "id": "eb725919",
   "metadata": {},
   "outputs": [],
   "source": []
  }
 ],
 "metadata": {
  "kernelspec": {
   "display_name": "Projects",
   "language": "python",
   "name": "python3"
  },
  "language_info": {
   "codemirror_mode": {
    "name": "ipython",
    "version": 3
   },
   "file_extension": ".py",
   "mimetype": "text/x-python",
   "name": "python",
   "nbconvert_exporter": "python",
   "pygments_lexer": "ipython3",
   "version": "3.12.8"
  }
 },
 "nbformat": 4,
 "nbformat_minor": 5
}
