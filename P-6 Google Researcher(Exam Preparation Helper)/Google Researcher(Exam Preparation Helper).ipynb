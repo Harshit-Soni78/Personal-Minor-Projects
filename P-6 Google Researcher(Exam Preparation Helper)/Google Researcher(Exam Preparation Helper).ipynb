{
 "cells": [
  {
   "cell_type": "markdown",
   "id": "334cc9f1",
   "metadata": {},
   "source": [
    "# This is Google Researcher(Exam Preparation Helper)\n",
    "\n",
    "- In this we can manualy make list of question that we wanted to search\n",
    "\n",
    "---\n",
    "\n",
    "---\n"
   ]
  },
  {
   "cell_type": "markdown",
   "id": "5e1a82a5",
   "metadata": {},
   "source": [
    "# Subject Name\n",
    "\n",
    "**Unit 1 :** Unit 1 Topics\n",
    "\n",
    "**Unit 2 :** Unit 2 Topics\n",
    "\n",
    "**Unit 3 :** Unit 3 Topics\n",
    "\n",
    "**Unit 4 :** Unit 4 Topics\n",
    "\n",
    "**Unit 5 :** Unit 5 Topics"
   ]
  },
  {
   "cell_type": "code",
   "execution_count": null,
   "id": "179dba51",
   "metadata": {},
   "outputs": [],
   "source": [
    "### Unit 1\n",
    "\n",
    "Unit_1 = []\n",
    "\n",
    "### Unit 2\n",
    "\n",
    "Unit_2 = []\n",
    "\n",
    "### Unit 3\n",
    "\n",
    "Unit_3 = []\n",
    "\n",
    "### Unit 4\n",
    "\n",
    "Unit_4 = []\n",
    "\n",
    "### Unit 5\n",
    "\n",
    "Unit_5 = []"
   ]
  },
  {
   "cell_type": "code",
   "execution_count": null,
   "id": "b2d5a167",
   "metadata": {},
   "outputs": [],
   "source": [
    "Unit = Unit_1"
   ]
  },
  {
   "cell_type": "code",
   "execution_count": null,
   "id": "a3a51f25",
   "metadata": {},
   "outputs": [],
   "source": [
    "import webbrowser\n",
    "\n",
    "ListOfQuestionLink = [f\"https://www.google.co.in/search?q={question.replace(' ', '+')}\" for question in Unit]\n",
    "\n",
    "for link in ListOfQuestionLink:\n",
    "    print(link)\n",
    "    webbrowser.open(link)\n",
    "print(\"-\" * 50)"
   ]
  },
  {
   "cell_type": "markdown",
   "id": "95caf8cd",
   "metadata": {},
   "source": [
    "---\n",
    "---"
   ]
  }
 ],
 "metadata": {
  "kernelspec": {
   "display_name": "Projects",
   "language": "python",
   "name": "python3"
  },
  "language_info": {
   "codemirror_mode": {
    "name": "ipython",
    "version": 3
   },
   "file_extension": ".py",
   "mimetype": "text/x-python",
   "name": "python",
   "nbconvert_exporter": "python",
   "pygments_lexer": "ipython3",
   "version": "3.12.8"
  }
 },
 "nbformat": 4,
 "nbformat_minor": 5
}
