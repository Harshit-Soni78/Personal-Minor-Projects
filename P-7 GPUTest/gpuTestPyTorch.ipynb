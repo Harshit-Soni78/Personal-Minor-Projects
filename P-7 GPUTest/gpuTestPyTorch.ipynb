{
 "cells": [
  {
   "cell_type": "markdown",
   "id": "aa6508d6",
   "metadata": {},
   "source": [
    "---\n",
    "# GPU Test PyTorch\n",
    "---"
   ]
  },
  {
   "cell_type": "code",
   "execution_count": 5,
   "id": "71abe530",
   "metadata": {},
   "outputs": [],
   "source": [
    "# pip install torch torchvision torchaudio --index-url https://download.pytorch.org/whl/cu121"
   ]
  },
  {
   "cell_type": "code",
   "execution_count": 6,
   "id": "27b5e35f",
   "metadata": {},
   "outputs": [],
   "source": [
    "import torch\n",
    "import torch.nn as nn\n",
    "import torch.optim as optim"
   ]
  },
  {
   "cell_type": "code",
   "execution_count": 7,
   "id": "e2a326c8",
   "metadata": {},
   "outputs": [
    {
     "name": "stdout",
     "output_type": "stream",
     "text": [
      "Using device: cuda\n",
      "GPU: NVIDIA GeForce GTX 1650\n"
     ]
    }
   ],
   "source": [
    "# Check GPU\n",
    "device = torch.device(\"cuda\" if torch.cuda.is_available() else \"cpu\")\n",
    "print(\"Using device:\", device)\n",
    "if device.type == \"cuda\":\n",
    "    print(\"GPU:\", torch.cuda.get_device_name(0))"
   ]
  },
  {
   "cell_type": "code",
   "execution_count": 8,
   "id": "09974aad",
   "metadata": {},
   "outputs": [],
   "source": [
    "# Dummy dataset (big to keep GPU busy)\n",
    "x = torch.randn(20000, 1024).to(device)\n",
    "y = torch.randn(20000, 10).to(device)"
   ]
  },
  {
   "cell_type": "code",
   "execution_count": 9,
   "id": "6d07b450",
   "metadata": {},
   "outputs": [],
   "source": [
    "# Simple neural network\n",
    "model = nn.Sequential(\n",
    "    nn.Linear(1024, 2048),\n",
    "    nn.ReLU(),\n",
    "    nn.Linear(2048, 1024),\n",
    "    nn.ReLU(),\n",
    "    nn.Linear(1024, 10)\n",
    ").to(device)\n",
    "\n",
    "criterion = nn.MSELoss()\n",
    "optimizer = optim.Adam(model.parameters(), lr=0.001)"
   ]
  },
  {
   "cell_type": "code",
   "execution_count": 10,
   "id": "2e2208ce",
   "metadata": {},
   "outputs": [
    {
     "name": "stdout",
     "output_type": "stream",
     "text": [
      "\n",
      "🚀 Starting GPU stress test... (watch nvidia-smi)\n",
      "Epoch 1/50 - Loss: 1.0068\n",
      "Epoch 2/50 - Loss: 2.1834\n",
      "Epoch 3/50 - Loss: 1.0778\n",
      "Epoch 4/50 - Loss: 0.9952\n",
      "Epoch 5/50 - Loss: 1.0092\n",
      "Epoch 6/50 - Loss: 0.9981\n",
      "Epoch 7/50 - Loss: 0.9858\n",
      "Epoch 8/50 - Loss: 0.9761\n",
      "Epoch 9/50 - Loss: 0.9690\n",
      "Epoch 10/50 - Loss: 0.9597\n",
      "Epoch 11/50 - Loss: 0.9484\n",
      "Epoch 12/50 - Loss: 0.9372\n",
      "Epoch 13/50 - Loss: 0.9229\n",
      "Epoch 14/50 - Loss: 0.9087\n",
      "Epoch 15/50 - Loss: 0.8933\n",
      "Epoch 16/50 - Loss: 0.8783\n",
      "Epoch 17/50 - Loss: 0.8613\n",
      "Epoch 18/50 - Loss: 0.8450\n",
      "Epoch 19/50 - Loss: 0.8269\n",
      "Epoch 20/50 - Loss: 0.8106\n",
      "Epoch 21/50 - Loss: 0.7871\n",
      "Epoch 22/50 - Loss: 0.7612\n",
      "Epoch 23/50 - Loss: 0.7367\n",
      "Epoch 24/50 - Loss: 0.7061\n",
      "Epoch 25/50 - Loss: 0.6776\n",
      "Epoch 26/50 - Loss: 0.6465\n",
      "Epoch 27/50 - Loss: 0.6108\n",
      "Epoch 28/50 - Loss: 0.5789\n",
      "Epoch 29/50 - Loss: 0.5383\n",
      "Epoch 30/50 - Loss: 0.5028\n",
      "Epoch 31/50 - Loss: 0.4621\n",
      "Epoch 32/50 - Loss: 0.4235\n",
      "Epoch 33/50 - Loss: 0.3934\n",
      "Epoch 34/50 - Loss: 0.3676\n",
      "Epoch 35/50 - Loss: 0.3318\n",
      "Epoch 36/50 - Loss: 0.2936\n",
      "Epoch 37/50 - Loss: 0.2823\n",
      "Epoch 38/50 - Loss: 0.2481\n",
      "Epoch 39/50 - Loss: 0.2267\n",
      "Epoch 40/50 - Loss: 0.2042\n",
      "Epoch 41/50 - Loss: 0.1864\n",
      "Epoch 42/50 - Loss: 0.1737\n",
      "Epoch 43/50 - Loss: 0.1529\n",
      "Epoch 44/50 - Loss: 0.1468\n",
      "Epoch 45/50 - Loss: 0.1334\n",
      "Epoch 46/50 - Loss: 0.1203\n",
      "Epoch 47/50 - Loss: 0.1220\n",
      "Epoch 48/50 - Loss: 0.1018\n",
      "Epoch 49/50 - Loss: 0.1096\n",
      "Epoch 50/50 - Loss: 0.0928\n"
     ]
    }
   ],
   "source": [
    "print(\"\\n🚀 Starting GPU stress test... (watch nvidia-smi)\")\n",
    "for epoch in range(50):  # more epochs = longer stress\n",
    "    optimizer.zero_grad()\n",
    "    outputs = model(x)\n",
    "    loss = criterion(outputs, y)\n",
    "    loss.backward()\n",
    "    optimizer.step()\n",
    "    print(f\"Epoch {epoch+1}/50 - Loss: {loss.item():.4f}\")"
   ]
  },
  {
   "cell_type": "code",
   "execution_count": 11,
   "id": "0f123026",
   "metadata": {},
   "outputs": [],
   "source": [
    "import torch\n",
    "torch.cuda.empty_cache()   # Frees unused memory"
   ]
  },
  {
   "cell_type": "code",
   "execution_count": null,
   "id": "fee1161d",
   "metadata": {},
   "outputs": [],
   "source": []
  }
 ],
 "metadata": {
  "kernelspec": {
   "display_name": "gpuTest",
   "language": "python",
   "name": "python3"
  },
  "language_info": {
   "codemirror_mode": {
    "name": "ipython",
    "version": 3
   },
   "file_extension": ".py",
   "mimetype": "text/x-python",
   "name": "python",
   "nbconvert_exporter": "python",
   "pygments_lexer": "ipython3",
   "version": "3.11.13"
  }
 },
 "nbformat": 4,
 "nbformat_minor": 5
}
