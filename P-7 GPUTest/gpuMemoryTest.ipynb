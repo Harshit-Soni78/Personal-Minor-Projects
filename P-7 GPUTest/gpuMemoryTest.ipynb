{
 "cells": [
  {
   "cell_type": "markdown",
   "id": "0e71a5a6",
   "metadata": {},
   "source": [
    "---\n",
    "# GPU Memory Stress Test\n",
    "---"
   ]
  },
  {
   "cell_type": "code",
   "execution_count": 2,
   "id": "de007cb7",
   "metadata": {},
   "outputs": [],
   "source": [
    "# pip install torch torchvision torchaudio --index-url https://download.pytorch.org/whl/cu118"
   ]
  },
  {
   "cell_type": "code",
   "execution_count": 3,
   "id": "db8121bc",
   "metadata": {},
   "outputs": [],
   "source": [
    "import torch\n",
    "import time"
   ]
  },
  {
   "cell_type": "code",
   "execution_count": 5,
   "id": "d6c83420",
   "metadata": {},
   "outputs": [
    {
     "name": "stdout",
     "output_type": "stream",
     "text": [
      "✅ CUDA is available!\n",
      "Using GPU: NVIDIA GeForce GTX 1650\n"
     ]
    }
   ],
   "source": [
    "# Check if CUDA is available\n",
    "if torch.cuda.is_available():\n",
    "    print(\"✅ CUDA is available!\")\n",
    "    device = torch.device(\"cuda\")\n",
    "    print(f\"Using GPU: {torch.cuda.get_device_name(device)}\")\n",
    "else:\n",
    "    print(\"❌ CUDA is NOT available. Using CPU.\")\n",
    "    device = torch.device(\"cpu\")"
   ]
  },
  {
   "cell_type": "markdown",
   "id": "39e9b384",
   "metadata": {},
   "source": [
    "---"
   ]
  },
  {
   "cell_type": "markdown",
   "id": "df7e555f",
   "metadata": {},
   "source": [
    "### 🔍 Step-by-Step Explanation\n",
    "\n",
    "- `torch.randn(10000, 10000, device=device)` Creates two large random matrices `a` and `b` of size `10,000 × 10,000` directly on the specified device (cpu or cuda).\n",
    "\n",
    "- `torch.matmul(a, b)` Performs matrix multiplication between `a` and `b`. This is a computationally heavy operation, ideal for benchmarking.\n",
    "\n",
    "- `start = time.time()` and `end = time.time()` Measures the time taken to perform the operation.\n",
    "\n",
    "- `torch.cuda.synchronize()` Ensures all GPU operations finish before recording the end time. GPU operations are asynchronous by default, so without this, the timing might be inaccurate. It's skipped for CPU.\n",
    "\n",
    "- `print(...)` Displays the device used and the time taken for the operation.\n",
    "---"
   ]
  },
  {
   "cell_type": "markdown",
   "id": "fbf5e3c7",
   "metadata": {},
   "source": [
    "`a = 1000*1000 Matrix` and `b = 1000*1000 Matrix`"
   ]
  },
  {
   "cell_type": "code",
   "execution_count": 6,
   "id": "91e458af",
   "metadata": {},
   "outputs": [
    {
     "name": "stdout",
     "output_type": "stream",
     "text": [
      "\n",
      "Running a test tensor operation...\n",
      "✅ Operation completed on: cuda\n",
      "⏱ Time taken: 1.394 seconds\n"
     ]
    }
   ],
   "source": [
    "# Perform a small matrix operation to test GPU\n",
    "print(\"\\nRunning a test tensor operation...\")\n",
    "\n",
    "start = time.time()\n",
    "a = torch.randn(1000, 1000, device=device)\n",
    "b = torch.randn(1000, 1000, device=device)\n",
    "c = torch.matmul(a, b)\n",
    "torch.cuda.synchronize() if device.type == 'cuda' else None  # Ensure all ops finish\n",
    "end = time.time()\n",
    "\n",
    "print(f\"✅ Operation completed on: {device}\")\n",
    "print(f\"⏱ Time taken: {end - start:.3f} seconds\")"
   ]
  },
  {
   "cell_type": "markdown",
   "id": "52738f37",
   "metadata": {},
   "source": [
    "---"
   ]
  },
  {
   "cell_type": "markdown",
   "id": "e316e835",
   "metadata": {},
   "source": [
    "`a = 10000*10000 Matrix` and `b = 10000*10000 Matrix`"
   ]
  },
  {
   "cell_type": "code",
   "execution_count": 7,
   "id": "34cf9ab2",
   "metadata": {},
   "outputs": [
    {
     "name": "stdout",
     "output_type": "stream",
     "text": [
      "\n",
      "Running a test tensor operation...\n",
      "✅ Operation completed on: cuda\n",
      "⏱ Time taken: 2.659 seconds\n"
     ]
    }
   ],
   "source": [
    "# Perform a small matrix operation to test GPU\n",
    "print(\"\\nRunning a test tensor operation...\")\n",
    "\n",
    "start = time.time()\n",
    "a = torch.randn(10000, 10000, device=device)\n",
    "b = torch.randn(10000, 10000, device=device)\n",
    "c = torch.matmul(a, b)\n",
    "torch.cuda.synchronize() if device.type == 'cuda' else None  # Ensure all ops finish\n",
    "end = time.time()\n",
    "\n",
    "print(f\"✅ Operation completed on: {device}\")\n",
    "print(f\"⏱ Time taken: {end - start:.3f} seconds\")"
   ]
  },
  {
   "cell_type": "code",
   "execution_count": null,
   "id": "ee7f31bc",
   "metadata": {},
   "outputs": [],
   "source": []
  }
 ],
 "metadata": {
  "kernelspec": {
   "display_name": "gpuTest",
   "language": "python",
   "name": "python3"
  },
  "language_info": {
   "codemirror_mode": {
    "name": "ipython",
    "version": 3
   },
   "file_extension": ".py",
   "mimetype": "text/x-python",
   "name": "python",
   "nbconvert_exporter": "python",
   "pygments_lexer": "ipython3",
   "version": "3.11.13"
  }
 },
 "nbformat": 4,
 "nbformat_minor": 5
}
