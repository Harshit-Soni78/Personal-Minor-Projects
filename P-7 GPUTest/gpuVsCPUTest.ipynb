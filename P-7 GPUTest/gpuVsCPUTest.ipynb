{
 "cells": [
  {
   "cell_type": "markdown",
   "id": "448252a0",
   "metadata": {},
   "source": [
    "---\n",
    "# GPU VS CPU Test\n",
    "---"
   ]
  },
  {
   "cell_type": "code",
   "execution_count": 4,
   "id": "edbf7357",
   "metadata": {},
   "outputs": [],
   "source": [
    "import torch\n",
    "import torch.nn as nn\n",
    "import torch.optim as optim\n",
    "import time"
   ]
  },
  {
   "cell_type": "code",
   "execution_count": 5,
   "id": "9adf9c98",
   "metadata": {},
   "outputs": [],
   "source": [
    "def run_benchmark(device_type=\"cuda\", epochs=50):\n",
    "    device = torch.device(device_type if torch.cuda.is_available() else \"cpu\")\n",
    "    print(f\"\\nUsing device: {device}\")\n",
    "    if device.type == \"cuda\":\n",
    "        print(\"GPU:\", torch.cuda.get_device_name(0))\n",
    "\n",
    "    # Dummy dataset\n",
    "    x = torch.randn(20000, 1024).to(device)\n",
    "    y = torch.randn(20000, 10).to(device)\n",
    "\n",
    "    # Simple neural network\n",
    "    model = nn.Sequential(\n",
    "        nn.Linear(1024, 2048),\n",
    "        nn.ReLU(),\n",
    "        nn.Linear(2048, 1024),\n",
    "        nn.ReLU(),\n",
    "        nn.Linear(1024, 10)\n",
    "    ).to(device)\n",
    "\n",
    "    criterion = nn.MSELoss()\n",
    "    optimizer = optim.Adam(model.parameters(), lr=0.001)\n",
    "\n",
    "    print(f\"\\n🚀 Starting {device_type.upper()} stress test...\")\n",
    "    start_time = time.time()\n",
    "\n",
    "    for epoch in range(epochs):\n",
    "        optimizer.zero_grad()\n",
    "        outputs = model(x)\n",
    "        loss = criterion(outputs, y)\n",
    "        loss.backward()\n",
    "        optimizer.step()\n",
    "        print(f\"Epoch {epoch+1}/{epochs} - Loss: {loss.item():.4f}\")\n",
    "\n",
    "    end_time = time.time()\n",
    "    duration = end_time - start_time\n",
    "    print(f\"\\n✅ {device_type.upper()} test completed in {duration:.2f} seconds.\")\n",
    "\n",
    "    if device.type == \"cuda\":\n",
    "        torch.cuda.empty_cache()"
   ]
  },
  {
   "cell_type": "code",
   "execution_count": null,
   "id": "fcdb1a43",
   "metadata": {},
   "outputs": [
    {
     "name": "stdout",
     "output_type": "stream",
     "text": [
      "\n",
      "Using device: cuda\n",
      "GPU: NVIDIA GeForce GTX 1650\n",
      "\n",
      "🚀 Starting CUDA stress test...\n",
      "Epoch 1/50 - Loss: 1.0167\n",
      "Epoch 2/50 - Loss: 2.1492\n",
      "Epoch 3/50 - Loss: 1.0939\n",
      "Epoch 4/50 - Loss: 0.9924\n",
      "Epoch 5/50 - Loss: 1.0002\n",
      "Epoch 6/50 - Loss: 0.9992\n",
      "Epoch 7/50 - Loss: 0.9966\n",
      "Epoch 8/50 - Loss: 0.9923\n",
      "Epoch 9/50 - Loss: 0.9871\n",
      "Epoch 10/50 - Loss: 0.9815\n",
      "Epoch 11/50 - Loss: 0.9752\n",
      "Epoch 12/50 - Loss: 0.9679\n",
      "Epoch 13/50 - Loss: 0.9599\n",
      "Epoch 14/50 - Loss: 0.9508\n",
      "Epoch 15/50 - Loss: 0.9407\n",
      "Epoch 16/50 - Loss: 0.9296\n",
      "Epoch 17/50 - Loss: 0.9173\n",
      "Epoch 18/50 - Loss: 0.9044\n",
      "Epoch 19/50 - Loss: 0.8905\n",
      "Epoch 20/50 - Loss: 0.8757\n",
      "Epoch 21/50 - Loss: 0.8597\n",
      "Epoch 22/50 - Loss: 0.8423\n",
      "Epoch 23/50 - Loss: 0.8233\n",
      "Epoch 24/50 - Loss: 0.8023\n",
      "Epoch 25/50 - Loss: 0.7787\n",
      "Epoch 26/50 - Loss: 0.7524\n",
      "Epoch 27/50 - Loss: 0.7239\n",
      "Epoch 28/50 - Loss: 0.6933\n",
      "Epoch 29/50 - Loss: 0.6597\n",
      "Epoch 30/50 - Loss: 0.6236\n",
      "Epoch 31/50 - Loss: 0.5896\n",
      "Epoch 32/50 - Loss: 0.5560\n",
      "Epoch 33/50 - Loss: 0.5185\n",
      "Epoch 34/50 - Loss: 0.4839\n",
      "Epoch 35/50 - Loss: 0.4472\n",
      "Epoch 36/50 - Loss: 0.4129\n",
      "Epoch 37/50 - Loss: 0.3781\n",
      "Epoch 38/50 - Loss: 0.3427\n",
      "Epoch 39/50 - Loss: 0.3126\n",
      "Epoch 40/50 - Loss: 0.2849\n",
      "Epoch 41/50 - Loss: 0.2654\n",
      "Epoch 42/50 - Loss: 0.2464\n",
      "Epoch 43/50 - Loss: 0.2230\n",
      "Epoch 44/50 - Loss: 0.1956\n",
      "Epoch 45/50 - Loss: 0.1855\n",
      "Epoch 46/50 - Loss: 0.1684\n",
      "Epoch 47/50 - Loss: 0.1495\n",
      "Epoch 48/50 - Loss: 0.1422\n",
      "Epoch 49/50 - Loss: 0.1239\n",
      "Epoch 50/50 - Loss: 0.1215\n",
      "\n",
      "✅ CUDA test completed in 12.78 seconds.\n"
     ]
    }
   ],
   "source": [
    "# Run GPU benchmarks\n",
    "run_benchmark(\"cuda\")  # GPU"
   ]
  },
  {
   "cell_type": "code",
   "execution_count": 7,
   "id": "f7f615e9",
   "metadata": {},
   "outputs": [
    {
     "name": "stdout",
     "output_type": "stream",
     "text": [
      "\n",
      "Using device: cpu\n",
      "\n",
      "🚀 Starting CPU stress test...\n",
      "Epoch 1/50 - Loss: 1.0121\n",
      "Epoch 2/50 - Loss: 2.3171\n",
      "Epoch 3/50 - Loss: 1.0909\n",
      "Epoch 4/50 - Loss: 0.9892\n",
      "Epoch 5/50 - Loss: 1.0005\n",
      "Epoch 6/50 - Loss: 1.0015\n",
      "Epoch 7/50 - Loss: 0.9957\n",
      "Epoch 8/50 - Loss: 0.9877\n",
      "Epoch 9/50 - Loss: 0.9805\n",
      "Epoch 10/50 - Loss: 0.9743\n",
      "Epoch 11/50 - Loss: 0.9674\n",
      "Epoch 12/50 - Loss: 0.9606\n",
      "Epoch 13/50 - Loss: 0.9530\n",
      "Epoch 14/50 - Loss: 0.9432\n",
      "Epoch 15/50 - Loss: 0.9323\n",
      "Epoch 16/50 - Loss: 0.9212\n",
      "Epoch 17/50 - Loss: 0.9090\n",
      "Epoch 18/50 - Loss: 0.8962\n",
      "Epoch 19/50 - Loss: 0.8821\n",
      "Epoch 20/50 - Loss: 0.8676\n",
      "Epoch 21/50 - Loss: 0.8525\n",
      "Epoch 22/50 - Loss: 0.8358\n",
      "Epoch 23/50 - Loss: 0.8175\n",
      "Epoch 24/50 - Loss: 0.7976\n",
      "Epoch 25/50 - Loss: 0.7750\n",
      "Epoch 26/50 - Loss: 0.7494\n",
      "Epoch 27/50 - Loss: 0.7212\n",
      "Epoch 28/50 - Loss: 0.6898\n",
      "Epoch 29/50 - Loss: 0.6553\n",
      "Epoch 30/50 - Loss: 0.6185\n",
      "Epoch 31/50 - Loss: 0.5805\n",
      "Epoch 32/50 - Loss: 0.5459\n",
      "Epoch 33/50 - Loss: 0.5116\n",
      "Epoch 34/50 - Loss: 0.4689\n",
      "Epoch 35/50 - Loss: 0.4346\n",
      "Epoch 36/50 - Loss: 0.4031\n",
      "Epoch 37/50 - Loss: 0.3633\n",
      "Epoch 38/50 - Loss: 0.3369\n",
      "Epoch 39/50 - Loss: 0.3156\n",
      "Epoch 40/50 - Loss: 0.2886\n",
      "Epoch 41/50 - Loss: 0.2587\n",
      "Epoch 42/50 - Loss: 0.2321\n",
      "Epoch 43/50 - Loss: 0.2192\n",
      "Epoch 44/50 - Loss: 0.1906\n",
      "Epoch 45/50 - Loss: 0.1765\n",
      "Epoch 46/50 - Loss: 0.1622\n",
      "Epoch 47/50 - Loss: 0.1403\n",
      "Epoch 48/50 - Loss: 0.1371\n",
      "Epoch 49/50 - Loss: 0.1155\n",
      "Epoch 50/50 - Loss: 0.1119\n",
      "\n",
      "✅ CPU test completed in 87.94 seconds.\n"
     ]
    }
   ],
   "source": [
    "# Run CPU benchmarks\n",
    "run_benchmark(\"cpu\")   # CPU"
   ]
  },
  {
   "cell_type": "code",
   "execution_count": 9,
   "id": "576d8ced",
   "metadata": {},
   "outputs": [
    {
     "name": "stdout",
     "output_type": "stream",
     "text": [
      "GPU takes 12.78 seconds to complete test, while CPU takes 87.94 seconds to complete test.\n",
      "GPU is 6.881064162754304 times faster than CPU for this test.\n"
     ]
    }
   ],
   "source": [
    "GPUTime = 12.78\n",
    "CPUTime =  87.94\n",
    "\n",
    "print(f\"GPU takes {GPUTime} seconds to complete test, while CPU takes {CPUTime} seconds to complete test.\\nGPU is {CPUTime/GPUTime} times faster than CPU for this test.\")"
   ]
  },
  {
   "cell_type": "code",
   "execution_count": null,
   "id": "f8dcec04",
   "metadata": {},
   "outputs": [],
   "source": []
  }
 ],
 "metadata": {
  "kernelspec": {
   "display_name": "gpuTest",
   "language": "python",
   "name": "python3"
  },
  "language_info": {
   "codemirror_mode": {
    "name": "ipython",
    "version": 3
   },
   "file_extension": ".py",
   "mimetype": "text/x-python",
   "name": "python",
   "nbconvert_exporter": "python",
   "pygments_lexer": "ipython3",
   "version": "3.11.13"
  }
 },
 "nbformat": 4,
 "nbformat_minor": 5
}
